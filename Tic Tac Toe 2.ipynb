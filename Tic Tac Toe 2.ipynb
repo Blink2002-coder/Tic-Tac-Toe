{
 "cells": [
  {
   "cell_type": "code",
   "execution_count": 2,
   "metadata": {},
   "outputs": [],
   "source": [
    "# Things we need\n",
    "\n",
    "# Board\n",
    "# Display the board\n",
    "# A Function to play the game\n",
    "    # handle a turn\n",
    "# Check Win:\n",
    "    # check rows\n",
    "    # check columns\n",
    "    # check diagonals\n",
    "# Check tie:\n",
    "    # if the entire board is full and there is no winner, then it's a tie\n",
    "# flip player"
   ]
  },
  {
   "cell_type": "code",
   "execution_count": 3,
   "metadata": {},
   "outputs": [],
   "source": [
    "# ---------- Global Variables -------------\n",
    "\n",
    "# Game board"
   ]
  },
  {
   "cell_type": "code",
   "execution_count": 4,
   "metadata": {},
   "outputs": [],
   "source": [
    "board = [\"-\", \"-\", \"-\", \n",
    "         \"-\", \"-\", \"-\", \n",
    "         \"-\", \"-\", \"-\", ]"
   ]
  },
  {
   "cell_type": "code",
   "execution_count": 5,
   "metadata": {},
   "outputs": [],
   "source": [
    "# if game is still going\n",
    "game_still_going = True"
   ]
  },
  {
   "cell_type": "code",
   "execution_count": 6,
   "metadata": {},
   "outputs": [],
   "source": [
    "# Who won? or tie?\n",
    "winner = None"
   ]
  },
  {
   "cell_type": "code",
   "execution_count": 7,
   "metadata": {},
   "outputs": [],
   "source": [
    "# whose turn is it?\n",
    "current_player = \"X\""
   ]
  },
  {
   "cell_type": "code",
   "execution_count": 8,
   "metadata": {},
   "outputs": [],
   "source": [
    "# Display board\n",
    "def display_board():\n",
    "    print(board[0] + \" | \" + board[1] + \" | \" + board[2] + \" | \" )\n",
    "    print(board[3] + \" | \" + board[4] + \" | \" + board[5] + \" | \" )\n",
    "    print(board[6] + \" | \" + board[7] + \" | \" + board[8] + \" | \" )"
   ]
  },
  {
   "cell_type": "code",
   "execution_count": 9,
   "metadata": {},
   "outputs": [],
   "source": [
    "# function to play a game of Tic Tac Toe\n",
    "def play_game():\n",
    "    \n",
    "    # display initial board\n",
    "    display_board()\n",
    "    \n",
    "    # While the game is still going\n",
    "    while game_still_going:\n",
    "         \n",
    "         # Handle a single turn of an arbitrary player\n",
    "         handle_turn(current_player)\n",
    "         \n",
    "         # Check if the game has ended\n",
    "         check_if_game_over()\n",
    "            \n",
    "         # Flip to the other player\n",
    "         flip_player()\n",
    "        \n",
    "    # The game has ended\n",
    "    if winner == \"X\" or winner == \"O\":\n",
    "        print(winner + \" won.\")\n",
    "    elif winner == None:\n",
    "        print(\"Tie.\")"
   ]
  },
  {
   "cell_type": "code",
   "execution_count": null,
   "metadata": {},
   "outputs": [],
   "source": []
  },
  {
   "cell_type": "code",
   "execution_count": 10,
   "metadata": {},
   "outputs": [],
   "source": [
    "# Handle a single turn of an arbitrary player\n",
    "def handle_turn(player):\n",
    "    \n",
    "    print(player + \"'s turn\")\n",
    "    position = input(\"Choose a position from 1-9: \")\n",
    "    \n",
    "    valid = False\n",
    "    \n",
    "    while not valid:\n",
    "        while position not in [\"1\", \"2\", \"3\", \"4\", \"5\", \"6\", \"7\", \"8\", \"9\"]:\n",
    "            position = input(\"Invalid input. Choose a position from 1-9: \")\n",
    "\n",
    "        position = int(position) - 1\n",
    "\n",
    "        if board[position] == \"-\":\n",
    "            valid = True\n",
    "        else:\n",
    "            print(\"Spot already taken. Try again\")\n",
    "\n",
    "    board[position] = player\n",
    "    \n",
    "    display_board()"
   ]
  },
  {
   "cell_type": "code",
   "execution_count": 11,
   "metadata": {},
   "outputs": [],
   "source": [
    "def check_if_game_over():\n",
    "    check_for_winner()\n",
    "    check_if_tie()"
   ]
  },
  {
   "cell_type": "code",
   "execution_count": 12,
   "metadata": {},
   "outputs": [],
   "source": [
    "def check_for_winner():\n",
    "    \n",
    "    # set up global variables\n",
    "    global winner\n",
    "    \n",
    "    # check rows\n",
    "    row_winner = check_rows()\n",
    "    \n",
    "    # check columns\n",
    "    column_winner = check_columns()\n",
    "    \n",
    "    # check diagonals\n",
    "    diagonal_winner = check_diagonals()\n",
    "    \n",
    "    if row_winner:\n",
    "        # There was a win\n",
    "        winner = row_winner\n",
    "        \n",
    "    elif column_winner:\n",
    "        # There was a win\n",
    "        winner = column_winner\n",
    "    \n",
    "    elif diagonal_winner:\n",
    "        # There was a win\n",
    "        winner = diagonal_winner\n",
    "        \n",
    "    else:\n",
    "        # There was no win\n",
    "        winner = None\n",
    "    return"
   ]
  },
  {
   "cell_type": "code",
   "execution_count": 13,
   "metadata": {},
   "outputs": [],
   "source": [
    "def check_rows():\n",
    "    \n",
    "    # Set up global variables\n",
    "    global game_still_going\n",
    "    \n",
    "    # check if any of the rows have all the same value (and is not empty [!= \"-\"])\n",
    "    row_1 = board[0] == board[1] == board[2] != \"-\"\n",
    "    row_2 = board[3] == board[4] == board[5] != \"-\"\n",
    "    row_3 = board[6] == board[7] == board[8] != \"-\"\n",
    "    \n",
    "    # If any row does have a match, flag that there is a win\n",
    "    if row_1 or row_2 or row_3:\n",
    "        game_still_going = False\n",
    "        \n",
    "    # return the winner [X or O]\n",
    "    if row_1:\n",
    "        return board[0]\n",
    "    \n",
    "    elif row_2:\n",
    "        return board[3]\n",
    "    \n",
    "    elif row_3:\n",
    "        return board[6]\n",
    "    return"
   ]
  },
  {
   "cell_type": "code",
   "execution_count": 14,
   "metadata": {},
   "outputs": [],
   "source": [
    "def check_columns():\n",
    "        \n",
    "    # Set up global variables\n",
    "    global game_still_going\n",
    "    \n",
    "    # check if any of the rows have all the same value (and is not empty [!= \"-\"])\n",
    "    column_1 = board[0] == board[3] == board[6] != \"-\"\n",
    "    column_2 = board[1] == board[4] == board[7] != \"-\"\n",
    "    column_3 = board[2] == board[5] == board[8] != \"-\"\n",
    "    \n",
    "    # If any row does have a match, flag that there is a win\n",
    "    if column_1 or column_2 or column_3:\n",
    "        game_still_going = False\n",
    "        \n",
    "    # return the winner [X or O]\n",
    "    if column_1:\n",
    "        return board[0]\n",
    "    \n",
    "    elif column_2:\n",
    "        return board[1]\n",
    "    \n",
    "    elif column_3:\n",
    "        return board[2]\n",
    "    return"
   ]
  },
  {
   "cell_type": "code",
   "execution_count": 15,
   "metadata": {},
   "outputs": [],
   "source": [
    "def check_diagonals():\n",
    "            \n",
    "    # Set up global variables\n",
    "    global game_still_going\n",
    "    \n",
    "    # check if any of the rows have all the same value (and is not empty [!= \"-\"])\n",
    "    diagonal_1 = board[0] == board[4] == board[8] != \"-\"\n",
    "    diagonal_2 = board[2] == board[4] == board[6] != \"-\"\n",
    "    \n",
    "    # If any row does have a match, flag that there is a win\n",
    "    if diagonal_1 or diagonal_2:\n",
    "        game_still_going = False\n",
    "        \n",
    "    # return the winner [X or O]\n",
    "    if diagonal_1:\n",
    "        return board[0]\n",
    "    \n",
    "    elif diagonal_2:\n",
    "        return board[6]\n",
    "\n",
    "    return"
   ]
  },
  {
   "cell_type": "code",
   "execution_count": 16,
   "metadata": {},
   "outputs": [],
   "source": [
    "def check_if_tie():\n",
    "    \n",
    "    global game_still_going\n",
    "    \n",
    "    if \"-\" not in board:\n",
    "        game_still_going = False\n",
    "        \n",
    "    return"
   ]
  },
  {
   "cell_type": "code",
   "execution_count": 17,
   "metadata": {},
   "outputs": [],
   "source": [
    "def flip_player():\n",
    "    \n",
    "    # The global variables needed\n",
    "    global current_player\n",
    "    \n",
    "    # if the current player was X, then change to O\n",
    "    if current_player == \"X\":\n",
    "        current_player = \"O\"\n",
    "        \n",
    "    # if the current player was X, then change to O\n",
    "    elif current_player == \"O\":\n",
    "        current_player = \"X\"\n",
    "    return"
   ]
  },
  {
   "cell_type": "code",
   "execution_count": 20,
   "metadata": {},
   "outputs": [
    {
     "name": "stdout",
     "output_type": "stream",
     "text": [
      "X | X | X | \n",
      "- | - | O | \n",
      "O | - | - | \n",
      "X won.\n"
     ]
    }
   ],
   "source": [
    "play_game() "
   ]
  },
  {
   "cell_type": "code",
   "execution_count": null,
   "metadata": {},
   "outputs": [],
   "source": []
  },
  {
   "cell_type": "code",
   "execution_count": null,
   "metadata": {},
   "outputs": [],
   "source": []
  }
 ],
 "metadata": {
  "kernelspec": {
   "display_name": "Python 3",
   "language": "python",
   "name": "python3"
  }
 },
 "nbformat": 4,
 "nbformat_minor": 4
}
